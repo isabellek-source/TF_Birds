{
 "cells": [
  {
   "cell_type": "markdown",
   "metadata": {},
   "source": [
    "Création Application GRADIO pour Projet CUICUI:\n",
    "Inspiration : https://www.gradio.app/guides/image-classification-in-tensorflow"
   ]
  },
  {
   "cell_type": "markdown",
   "metadata": {},
   "source": [
    "Step 1 : Préparation du Modèle de Classificaiton d'image\n",
    "Importation des bibliothèques"
   ]
  },
  {
   "cell_type": "code",
   "execution_count": 1,
   "metadata": {},
   "outputs": [
    {
     "name": "stderr",
     "output_type": "stream",
     "text": [
      "/opt/homebrew/lib/python3.11/site-packages/tqdm/auto.py:21: TqdmWarning: IProgress not found. Please update jupyter and ipywidgets. See https://ipywidgets.readthedocs.io/en/stable/user_install.html\n",
      "  from .autonotebook import tqdm as notebook_tqdm\n"
     ]
    }
   ],
   "source": [
    "import gradio as gr\n",
    "\n",
    "import tensorflow as tf\n",
    "tf.config.run_functions_eagerly(True)\n",
    "from tensorflow.keras.models import Sequential, Model, load_model\n",
    "from tensorflow.keras.layers import Dense, Input, InputLayer, Conv2D, MaxPooling2D, Flatten, Dropout\n",
    "from tensorflow.keras.layers import BatchNormalization, Activation, Concatenate, AveragePooling2D, GlobalAveragePooling2D\n",
    "from tensorflow.keras.callbacks import ModelCheckpoint, EarlyStopping\n",
    "from tensorflow.keras.preprocessing import image\n",
    "from tensorflow.keras.preprocessing.image import ImageDataGenerator\n",
    "\n",
    "import numpy as np\n",
    "import pandas as pd\n",
    "import requests"
   ]
  },
  {
   "cell_type": "code",
   "execution_count": 2,
   "metadata": {},
   "outputs": [
    {
     "name": "stderr",
     "output_type": "stream",
     "text": [
      "WARNING:absl:At this time, the v2.11+ optimizer `tf.keras.optimizers.Adam` runs slowly on M1/M2 Macs, please use the legacy Keras optimizer instead, located at `tf.keras.optimizers.legacy.Adam`.\n",
      "WARNING:absl:There is a known slowdown when using v2.11+ Keras optimizers on M1/M2 Macs. Falling back to the legacy Keras optimizer, i.e., `tf.keras.optimizers.legacy.Adam`.\n"
     ]
    },
    {
     "name": "stdout",
     "output_type": "stream",
     "text": [
      "WARNING:tensorflow:Error in loading the saved optimizer state. As a result, your model is starting with a freshly initialized optimizer.\n"
     ]
    },
    {
     "name": "stderr",
     "output_type": "stream",
     "text": [
      "WARNING:tensorflow:Error in loading the saved optimizer state. As a result, your model is starting with a freshly initialized optimizer.\n"
     ]
    }
   ],
   "source": [
    "# Chargement de mon modèle sauvegardé : \n",
    "\n",
    "# A MODIFIER\n",
    "# je peux directement mettre le chemin vers mon modèle :\n",
    "inception_net = tf.keras.models.load_model('/Users/isabellekolodziej/Desktop/Code Wild School/Projet 4 /Gradio/model_hanous2_50.h5')\n"
   ]
  },
  {
   "cell_type": "markdown",
   "metadata": {},
   "source": [
    "Step 2 : Définition d'une fonction input de l'image et output = output=> prédictions"
   ]
  },
  {
   "cell_type": "code",
   "execution_count": 3,
   "metadata": {},
   "outputs": [],
   "source": [
    "# A MODIFIER \n",
    "# Chargement de mon fichier TEXTE : att => 120 classes\n",
    "with open('/Users/isabellekolodziej/Desktop/Code Wild School/Projet 4 /Gradio/classe_50.txt', 'r') as file:\n",
    "    labels = file.read().splitlines()\n",
    "\n",
    "# Attention, ce modèle a besoin d'un fichier texte des étiquettes de classes, DANS L'ORDRE :-)\n"
   ]
  },
  {
   "cell_type": "code",
   "execution_count": 4,
   "metadata": {},
   "outputs": [],
   "source": [
    "#response = requests.get(\"LIEN GITHUB\")         # je pointe vers le fichier de texte contenant le nom de toutes mes classes\n",
    "\n",
    "# Traitement du texte\n",
    "#labels = label.split(\"\\n\")\n",
    "\n",
    "\n",
    "# Pose de la def permettant d'exécuter mon réseau de neurones \n",
    "def classify_image(inp):\n",
    "  inp = inp.reshape((-1, 224, 224, 3))                                  # taille de 224*224, avec 3 couleurs\n",
    "  inp = tf.keras.applications.mobilenet_v2.preprocess_input(inp)        # étape de normalisation des images\n",
    "  prediction = inception_net.predict(inp).flatten()                     # notre modèle à charger dedans\n",
    "  # prédiction de l'image\n",
    "  # applatissement par FLATTEN de la classes d'objets en un tableau 1D\n",
    "  \n",
    "  confidences = {labels[i]: float(prediction[i]) for i in range(len(labels))}  # X classes => dynamoooooo\n",
    "  # créa d'un dictionnaire avec le nom des lables (le fichier texte)\n",
    "\n",
    "  return confidences\n",
    "\n",
    "  ################# OU ###########################\n",
    "  #Obtenir l'indice de la classe prédite\n",
    "  #predicted_class_index = np.argmax(prediction)\n",
    "  \n",
    "  # Obtenir le nom de la classe à partir de l'indice\n",
    "  #predicted_class_name = labels[predicted_class_index]\n",
    "  #return predicted_class_name\n"
   ]
  },
  {
   "cell_type": "markdown",
   "metadata": {},
   "source": [
    "Step 3:  Création de mon GRADIO interface"
   ]
  },
  {
   "cell_type": "code",
   "execution_count": 18,
   "metadata": {},
   "outputs": [
    {
     "name": "stdout",
     "output_type": "stream",
     "text": [
      "Running on local URL:  http://127.0.0.1:7873\n",
      "Running on public URL: https://1bc08d11afba149c2c.gradio.live\n",
      "\n",
      "This share link expires in 72 hours. For free permanent hosting and GPU upgrades, run `gradio deploy` from Terminal to deploy to Spaces (https://huggingface.co/spaces)\n"
     ]
    },
    {
     "data": {
      "text/html": [
       "<div><iframe src=\"https://1bc08d11afba149c2c.gradio.live\" width=\"100%\" height=\"500\" allow=\"autoplay; camera; microphone; clipboard-read; clipboard-write;\" frameborder=\"0\" allowfullscreen></iframe></div>"
      ],
      "text/plain": [
       "<IPython.core.display.HTML object>"
      ]
     },
     "metadata": {},
     "output_type": "display_data"
    },
    {
     "data": {
      "text/plain": []
     },
     "execution_count": 18,
     "metadata": {},
     "output_type": "execute_result"
    }
   ],
   "source": [
    "with gr.Blocks() as zozio:\n",
    "    gr.Markdown(\n",
    "    '''\n",
    "    # 🦉🦆🪿 Projet Zozio 🪿🦆🦉\n",
    "    ## Bienvenue sur le Projet Zozio !\n",
    "\n",
    "    Le site a été développé par trois Data Scientists , en formation à la Wild Code School - promor PACA 2023 : \\n\n",
    "    + Hervé HAMARD        👉🏽[LinkedIn](https://www.linkedin.com/in/herv%C3%A9-hamard-9491a142/) \\n\n",
    "    + Hélène SOMMIER      👉🏽[LinkedIn](https://www.linkedin.com/in/h%C3%A9l%C3%A8ne-sommier-6473918b/) \\n\n",
    "    + Isabelle KOLODZIEJ  👉🏽[LinkedIn](https://www.linkedin.com/in/isabelle-kolodziej/) \\n\n",
    "\n",
    "    Nous sommes ravis de vous présenter ce travail. \n",
    "\n",
    "    Pour des questions et/ou améliorations, nous vous invitons à nous contacter sur LinkedIn !\n",
    "\n",
    "    Amusez-vous !\n",
    "\n",
    "    IsVeLene®\n",
    "    ''')\n",
    "\n",
    "    gr.Interface(\n",
    "        fn=classify_image,             # ma fonction de réseau de neurones\n",
    "        inputs=gr.Image(shape=(224, 224)),     # input: l'image que l'on souhaite examiner\n",
    "        outputs=gr.Label(num_top_classes=10),  # output: les résultats de prédictions sont affichés sous forme d'étiquette. Avec X classes.\n",
    "\n",
    "        # A MODIFIEEEERRRRR\n",
    "        examples=[\"/Users/isabellekolodziej/Desktop/Code Wild School/Projet 4 /valid/FLAME TANAGER/2.jpg\", \n",
    "        \"/Users/isabellekolodziej/Desktop/Code Wild School/Projet 4 /valid/YELLOW BELLIED FLOWERPECKER/1.jpg\", \n",
    "        \"/Users/isabellekolodziej/Desktop/Code Wild School/Projet 4 /valid/PUFFIN/2.jpg\",\n",
    "        \"/Users/isabellekolodziej/Desktop/Code Wild School/Projet 4 /valid/ELEGANT TROGON/4.jpg\",\n",
    "        \"/Users/isabellekolodziej/Desktop/Code Wild School/Projet 4 /valid/BOBOLINK/3.jpg\",\n",
    "        \"/Users/isabellekolodziej/Desktop/Code Wild School/Projet 4 /valid/BANDED PITA/2.jpg\",\n",
    "        \"/Users/isabellekolodziej/Desktop/Code Wild School/Projet 4 /valid/CHARA DE COLLAR/5.jpg\"],\n",
    "\n",
    "        title=\"Veuillez insérer une image d'oiseau ci-dessus\")\n",
    "\n",
    "\n",
    "\n",
    "# Lancement de l'interface, share=True \n",
    "zozio.launch(share=True) "
   ]
  }
 ],
 "metadata": {
  "kernelspec": {
   "display_name": "Python 3",
   "language": "python",
   "name": "python3"
  },
  "language_info": {
   "codemirror_mode": {
    "name": "ipython",
    "version": 3
   },
   "file_extension": ".py",
   "mimetype": "text/x-python",
   "name": "python",
   "nbconvert_exporter": "python",
   "pygments_lexer": "ipython3",
   "version": "3.11.4"
  },
  "orig_nbformat": 4
 },
 "nbformat": 4,
 "nbformat_minor": 2
}
